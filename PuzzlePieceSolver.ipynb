{
 "cells": [
  {
   "cell_type": "markdown",
   "metadata": {},
   "source": [
    "# Using OpenCV to Reorder Images based on Point Tags\n",
    "## Import libraries"
   ]
  },
  {
   "cell_type": "code",
   "execution_count": 21,
   "metadata": {},
   "outputs": [],
   "source": [
    "import matplotlib as plt\n",
    "import numpy as np\n",
    "import cv2 as cv\n",
    "import os\n",
    "import pathlib"
   ]
  },
  {
   "cell_type": "code",
   "execution_count": 22,
   "metadata": {},
   "outputs": [],
   "source": [
    "build_path = pathlib.Path(\"Build/\").mkdir(exist_ok=True)\n",
    "source_path = pathlib.Path(\"Test Data/fumo/\")\n",
    "\n",
    "#Setup Files for reading\n",
    "puzzle_pieces = []\n",
    "with os.scandir(source_path) as entries:\n",
    "    for entry in entries:\n",
    "        puzzle_pieces.append(entry.name)"
   ]
  },
  {
   "cell_type": "code",
   "execution_count": 23,
   "metadata": {},
   "outputs": [],
   "source": [
    "#Store answers\n",
    "position_answers = []"
   ]
  },
  {
   "cell_type": "code",
   "execution_count": 24,
   "metadata": {},
   "outputs": [],
   "source": [
    "# Set Marker Color Ranges \n",
    "# Note that CV uses BGR instead of RGB\n",
    "blue_dot = [(200,0,0),(255,40,40),\"blue\"]\n",
    "red_dot = [(0,0,200),(40,40,255),\"red\"]\n",
    "markers = [blue_dot,red_dot]"
   ]
  },
  {
   "cell_type": "code",
   "execution_count": 25,
   "metadata": {},
   "outputs": [],
   "source": [
    "def loader(image_filename:str):\n",
    "    return cv.imread(str(source_path.joinpath(image_filename)))"
   ]
  },
  {
   "cell_type": "code",
   "execution_count": 26,
   "metadata": {},
   "outputs": [],
   "source": [
    "def solve_position(image_filename:str ) -> dict:\n",
    "    # test_image = source_path.joinpath(image_filename)\n",
    "    # loaded_image = cv.imread(str(test_image))\n",
    "    loaded_image = loader(image_filename)\n",
    "\n",
    "    #Pre=process image\n",
    "    blurred_image = cv.medianBlur(loaded_image, 7)\n",
    "\n",
    "    #Populate total markers in image to Dictionary\n",
    "    circles = {}\n",
    "    for lower_bound, upper_bound, color in markers:\n",
    "        mask = cv.inRange(blurred_image,lower_bound, upper_bound)\n",
    "        # cv.imshow('mask',mask)\n",
    "        \n",
    "        counts = cv.findContours(mask,cv.RETR_LIST,cv.CHAIN_APPROX_SIMPLE)\n",
    "        circles.update({color : len(counts[0])})\n",
    "        # cv.destroyWindow('mask')\n",
    "    \n",
    "    # cv.destroyAllWindows()\n",
    "        \n",
    "    return circles\n",
    "\n",
    "#Test function works as intended        \n",
    "assert( solve_position(\"3Yy2JsTKtsLVG2RU.jpg\") == {'blue':2, 'red':2})\n",
    "    \n"
   ]
  },
  {
   "cell_type": "markdown",
   "metadata": {},
   "source": [
    "Columns are Red, Rows are Blue"
   ]
  },
  {
   "cell_type": "code",
   "execution_count": 27,
   "metadata": {},
   "outputs": [],
   "source": [
    "#go through set of images\n",
    "for image in puzzle_pieces:\n",
    "    position = solve_position(image)\n",
    "    solved_piece = position['red'], position['blue'], image\n",
    "    position_answers.append(solved_piece)\n"
   ]
  },
  {
   "cell_type": "code",
   "execution_count": 28,
   "metadata": {},
   "outputs": [],
   "source": [
    "\n",
    "#find the max row and column\n",
    "row_size = 0\n",
    "col_size = 0\n",
    "for answer in position_answers:\n",
    "    col_size = max(answer[0],col_size)\n",
    "    row_size = max(answer[1],row_size)\n",
    "    \n",
    "#find shape of total \n",
    "single_shape = loader(puzzle_pieces[0]).shape\n",
    "max_x = col_size * single_shape[0] \n",
    "max_y = row_size * single_shape[1] "
   ]
  },
  {
   "cell_type": "code",
   "execution_count": 29,
   "metadata": {},
   "outputs": [
    {
     "data": {
      "text/plain": [
       "(3, 3)"
      ]
     },
     "execution_count": 29,
     "metadata": {},
     "output_type": "execute_result"
    }
   ],
   "source": [
    "row_size, col_size"
   ]
  },
  {
   "cell_type": "code",
   "execution_count": 30,
   "metadata": {},
   "outputs": [
    {
     "data": {
      "text/plain": [
       "(600, 600)"
      ]
     },
     "execution_count": 30,
     "metadata": {},
     "output_type": "execute_result"
    }
   ],
   "source": [
    "max_x, max_y"
   ]
  },
  {
   "cell_type": "code",
   "execution_count": 35,
   "metadata": {},
   "outputs": [
    {
     "name": "stdout",
     "output_type": "stream",
     "text": [
      "[(1, 1, 'jeKu7769tCCqm5NG.jpg'), (1, 3, 'O1f0qQidDoOgejBm.jpg'), (1, 2, 'so1rDdxWjmh8zs7K.jpg'), (2, 2, '3Yy2JsTKtsLVG2RU.jpg'), (2, 3, 'J21Sb3z7N2KwqviC.jpg'), (2, 1, 'XLN7viVqN92pKe14.jpg'), (3, 1, 'g8B4OJ6a0y8agQmK.jpg'), (3, 2, 'ghsavmJgmo6kLOY3.jpg'), (3, 3, 'RnfFLB1SsZMsimeA.jpg')]\n"
     ]
    }
   ],
   "source": [
    "# Assemble picture\n",
    "# puzzle_area = np.zeros((max_x, max_y,3),dtype='uint8')\n",
    "\n",
    "def firstElement(element):\n",
    "    return element[0]\n",
    "\n",
    "position_answers.sort(key=firstElement)\n",
    "horizontal_strip = []\n",
    "vertical_strip = []\n",
    "for x,y,image in position_answers:\n",
    "    if (x <= col_size):\n",
    "        horizontal_strip.append(image)\n",
    "    else:\n",
    "        width = np.concatenate(list(map(loader,horizontal_strip)),axis=1)\n",
    "        horizontal_strip.clear()\n",
    "\n",
    "    # np.concatenate(vertical_strip, axis=0)\n",
    "        \n",
    "print(position_answers)\n",
    "# for i in position_answers:\n",
    "#     print(i)\n",
    "#     grid_pt_x = max_x/col_size\n",
    "#     grid_pt_y = max_y/row_size\n",
    "#     point1_x = (i[0]-1) * grid_pt_x\n",
    "#     point1_y = (i[1]-1) * grid_pt_y\n",
    "#     point2_x = point1_x + grid_pt_x\n",
    "#     point2_y = point1_y + grid_pt_y\n",
    "    \n",
    "#     print(point1_x,point1_y)\n",
    "#     print(point2_x, point2_y)\n",
    "#     puzzle_section = loader(i[2])\n",
    "    # cv.rectangle(puzzle_section, (point1_x,point1_y),(point2_x, point2_y),)\n",
    "# cv.imshow('Puzzle',puzzle_area)\n",
    "# cv.waitKey(delay=0)"
   ]
  }
 ],
 "metadata": {
  "kernelspec": {
   "display_name": "Python 3.11.0 64-bit",
   "language": "python",
   "name": "python3"
  },
  "language_info": {
   "codemirror_mode": {
    "name": "ipython",
    "version": 3
   },
   "file_extension": ".py",
   "mimetype": "text/x-python",
   "name": "python",
   "nbconvert_exporter": "python",
   "pygments_lexer": "ipython3",
   "version": "3.11.0"
  },
  "orig_nbformat": 4,
  "vscode": {
   "interpreter": {
    "hash": "d34152f2d1ac094acd5d7f0e8f022facfbcafb49aaa82f832bd7344ae80c1a74"
   }
  }
 },
 "nbformat": 4,
 "nbformat_minor": 2
}
