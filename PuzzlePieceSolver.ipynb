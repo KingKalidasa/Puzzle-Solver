{
 "cells": [
  {
   "cell_type": "markdown",
   "metadata": {},
   "source": [
    "# Using OpenCV to Reorder Images based on Point Tags\n",
    "## Import libraries"
   ]
  },
  {
   "cell_type": "code",
   "execution_count": 3,
   "metadata": {},
   "outputs": [],
   "source": [
    "import numpy as np\n",
    "import cv2 as cv\n",
    "import os\n",
    "from pathlib import Path\n",
    "import sys"
   ]
  },
  {
   "cell_type": "code",
   "execution_count": 4,
   "metadata": {},
   "outputs": [],
   "source": [
    "build_path = Path(\"Build/\")\n",
    "build_path.mkdir(exist_ok=True)\n",
    "source_path = Path(\"Test Data/galaxy/\")\n",
    "\n",
    "#Setup Files for reading\n",
    "puzzle_pieces = []\n",
    "with os.scandir(source_path) as entries:\n",
    "    for entry in entries:\n",
    "        puzzle_pieces.append(entry.name)"
   ]
  },
  {
   "cell_type": "code",
   "execution_count": 5,
   "metadata": {},
   "outputs": [],
   "source": [
    "#Store answers\n",
    "position_answers = []"
   ]
  },
  {
   "cell_type": "markdown",
   "metadata": {},
   "source": [
    "Setup desired Markers here"
   ]
  },
  {
   "cell_type": "code",
   "execution_count": 6,
   "metadata": {},
   "outputs": [],
   "source": [
    "# Set Marker Color Ranges \n",
    "# Note that CV uses BGR instead of RGB\n",
    "blue_dot = [(200,0,0),(255,40,40),\"blue\"]\n",
    "red_dot = [(0,0,200),(40,40,255),\"red\"]\n",
    "markers = [blue_dot,red_dot]"
   ]
  },
  {
   "cell_type": "code",
   "execution_count": 7,
   "metadata": {},
   "outputs": [],
   "source": [
    "def loader(image_filename:str):\n",
    "    return cv.imread(str(source_path.joinpath(image_filename)))"
   ]
  },
  {
   "cell_type": "markdown",
   "metadata": {},
   "source": [
    "The image searching mechanism"
   ]
  },
  {
   "cell_type": "code",
   "execution_count": 8,
   "metadata": {},
   "outputs": [],
   "source": [
    "def solve_position(image_filename:str ) -> dict:\n",
    "    # test_image = source_path.joinpath(image_filename)\n",
    "    # loaded_image = cv.imread(str(test_image))\n",
    "    loaded_image = loader(image_filename)\n",
    "\n",
    "    #Pre=process image\n",
    "    blurred_image = cv.medianBlur(loaded_image, 7)\n",
    "\n",
    "    #Populate total markers in image to Dictionary\n",
    "    circles = {}\n",
    "    for lower_bound, upper_bound, color in markers:\n",
    "        mask = cv.inRange(blurred_image,lower_bound, upper_bound)\n",
    "        # cv.imshow('mask',mask)\n",
    "        \n",
    "        counts = cv.findContours(mask,cv.RETR_LIST,cv.CHAIN_APPROX_SIMPLE)\n",
    "        circles.update({color : len(counts[0])})\n",
    "        # cv.destroyWindow('mask')\n",
    "    \n",
    "    # cv.destroyAllWindows()\n",
    "        \n",
    "    return circles\n",
    "\n",
    "#Test function works as intended        \n",
    "# assert( solve_position(\"Test Data/fumo/3Yy2JsTKtsLVG2RU.jpg\") == {'blue':2, 'red':2})\n",
    "    \n"
   ]
  },
  {
   "cell_type": "markdown",
   "metadata": {},
   "source": [
    "Columns are Red, Rows are Blue\n"
   ]
  },
  {
   "cell_type": "code",
   "execution_count": 9,
   "metadata": {},
   "outputs": [],
   "source": [
    "#go through set of images\n",
    "for image in puzzle_pieces:\n",
    "    position = solve_position(image)\n",
    "    solved_piece = position['red'], position['blue'], image\n",
    "    position_answers.append(solved_piece)\n"
   ]
  },
  {
   "cell_type": "code",
   "execution_count": 10,
   "metadata": {},
   "outputs": [],
   "source": [
    "\n",
    "#find the max row and column\n",
    "row_size = 0\n",
    "col_size = 0\n",
    "for answer in position_answers:\n",
    "    col_size = max(answer[0],col_size)\n",
    "    row_size = max(answer[1],row_size)\n",
    "    \n",
    "#find shape of total \n",
    "single_shape = loader(puzzle_pieces[0]).shape\n",
    "max_x = col_size * single_shape[0] \n",
    "max_y = row_size * single_shape[1] "
   ]
  },
  {
   "cell_type": "code",
   "execution_count": 11,
   "metadata": {},
   "outputs": [
    {
     "data": {
      "text/plain": [
       "(30, 30)"
      ]
     },
     "execution_count": 11,
     "metadata": {},
     "output_type": "execute_result"
    }
   ],
   "source": [
    "row_size, col_size"
   ]
  },
  {
   "cell_type": "code",
   "execution_count": 12,
   "metadata": {},
   "outputs": [
    {
     "data": {
      "text/plain": [
       "(6420, 11460)"
      ]
     },
     "execution_count": 12,
     "metadata": {},
     "output_type": "execute_result"
    }
   ],
   "source": [
    "max_x, max_y"
   ]
  },
  {
   "cell_type": "markdown",
   "metadata": {},
   "source": [
    "Sort pieces by coordinates and paste together"
   ]
  },
  {
   "cell_type": "code",
   "execution_count": 17,
   "metadata": {},
   "outputs": [],
   "source": [
    "# Assemble picture\n",
    "\n",
    "position_answers.sort(key= lambda elem: (elem[0],elem[1]))\n",
    "horizontal_strip = []\n",
    "row_section = []\n",
    "\n",
    "for i in range(row_size):\n",
    "    row_section.append(i)\n",
    "\n",
    "\n",
    "\n",
    "\n",
    "count = 0\n",
    "for i in position_answers:\n",
    "    # print(i[2],\" count is at\", count)\n",
    "    horizontal_strip.append(loader(i[2]))\n",
    "    if (i[1] % col_size ==0):\n",
    "        # print('--------')\n",
    "        row_section[count] =  np.concatenate(horizontal_strip,axis=0)   #connect single images into horizontal strips\n",
    "        count += 1\n",
    "        horizontal_strip.clear()\n",
    "\n",
    "solution = np.concatenate(row_section, axis=1) #connect horizontal strips of the images      \n"
   ]
  },
  {
   "cell_type": "code",
   "execution_count": 16,
   "metadata": {},
   "outputs": [
    {
     "data": {
      "text/plain": [
       "True"
      ]
     },
     "execution_count": 16,
     "metadata": {},
     "output_type": "execute_result"
    }
   ],
   "source": [
    "target_filename = f'Completed Puzzle_{str(max_y)}x{str(max_x)}.jpg'\n",
    "target = str(build_path.joinpath(target_filename))\n",
    "\n",
    "cv.imwrite(target, solution) \n",
    "#Done!"
   ]
  },
  {
   "cell_type": "markdown",
   "metadata": {},
   "source": [
    "Setup function for standalone use"
   ]
  },
  {
   "cell_type": "code",
   "execution_count": 1,
   "metadata": {},
   "outputs": [],
   "source": [
    "def Setup():\n",
    "\n",
    "    if (len(sys.argv) != 2):\n",
    "        print(\"\"\"Please run as follows:\n",
    "            python puzzle.py <Image_Folder_Directory>\n",
    "            \n",
    "            Where the folder directory contains your imageset per puzzle.\"\"\")\n",
    "        quit()\n",
    "\n",
    "    source_path = Path(sys.argv)\n",
    "    parent_dir = os.path.split(source_path)[0]\n",
    "    \n",
    "    build_path = Path(\"Build/\")\n",
    "    build_path.mkdir(exist_ok=True)"
   ]
  }
 ],
 "metadata": {
  "kernelspec": {
   "display_name": "Python 3.11.0 64-bit",
   "language": "python",
   "name": "python3"
  },
  "language_info": {
   "codemirror_mode": {
    "name": "ipython",
    "version": 3
   },
   "file_extension": ".py",
   "mimetype": "text/x-python",
   "name": "python",
   "nbconvert_exporter": "python",
   "pygments_lexer": "ipython3",
   "version": "3.11.0"
  },
  "orig_nbformat": 4,
  "vscode": {
   "interpreter": {
    "hash": "d34152f2d1ac094acd5d7f0e8f022facfbcafb49aaa82f832bd7344ae80c1a74"
   }
  }
 },
 "nbformat": 4,
 "nbformat_minor": 2
}
